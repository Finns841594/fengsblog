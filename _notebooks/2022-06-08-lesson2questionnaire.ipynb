{
 "cells": [
  {
   "cell_type": "markdown",
   "metadata": {},
   "source": [
    "# Lesson 2 Questionnaire\n",
    "> \n",
    "\n",
    "- toc: true \n",
    "- badges: true\n",
    "- comments: true\n",
    "- author: Feng Yang\n",
    "- categories: [Questionnaire]"
   ]
  },
  {
   "cell_type": "markdown",
   "metadata": {},
   "source": [
    "1. Provide an example of where the bear classification model might work poorly in production, due to structural or style differences in the training data."
   ]
  },
  {
   "cell_type": "markdown",
   "metadata": {},
   "source": [
    "If there have no black-and-white images of bears in the trainning data, the model might do poorly in classifier mission when we input a black-and-white bear image. So when we collecting the training data, we should take the type of data that would be used in practical mission into consideration."
   ]
  },
  {
   "cell_type": "markdown",
   "metadata": {},
   "source": [
    "2. Where do text models currently have a major deficiency?"
   ]
  },
  {
   "cell_type": "markdown",
   "metadata": {},
   "source": [
    "Deep learning is currently not good at generating correct natural language responses."
   ]
  },
  {
   "cell_type": "markdown",
   "metadata": {},
   "source": [
    "3. What are possible negative societal implications of text generation models?"
   ]
  },
  {
   "cell_type": "markdown",
   "metadata": {},
   "source": [
    "Auto generated text contents can be used to spread disinformation, create unrest, and encourage conflict, which will bring much bigger influence than before. Because the speed of generated such contents by machine learning model is thousands of times greater than any troll farm previously seen. "
   ]
  },
  {
   "cell_type": "markdown",
   "metadata": {},
   "source": [
    "4. In situations where a model might make mistakes, and those mistakes could be harmful, what is a good alternative to automating a process?"
   ]
  },
  {
   "cell_type": "markdown",
   "metadata": {},
   "source": [
    "Use this model as a tool for human for the specific task. Combineing the efficiency of a machine and the accuracy of a human."
   ]
  },
  {
   "cell_type": "markdown",
   "metadata": {},
   "source": [
    "5. What kind of tabular data is deep learning particularly good at?"
   ]
  },
  {
   "cell_type": "markdown",
   "metadata": {},
   "source": [
    "Natrual language and high-cardinality categorical columns(discrete numbers such as zip code or product ID)."
   ]
  },
  {
   "cell_type": "markdown",
   "metadata": {},
   "source": [
    "6. What's a key downside of directly using a deep learning model for recommendation systems?"
   ]
  },
  {
   "cell_type": "markdown",
   "metadata": {},
   "source": [
    "It recommands based on the relativeness. So a deep learning model may recommend something highly relative which you already known. "
   ]
  },
  {
   "cell_type": "markdown",
   "metadata": {},
   "source": [
    "7. What are the steps of the Drivetrain Approach?"
   ]
  },
  {
   "cell_type": "markdown",
   "metadata": {},
   "source": [
    "Define the Objective -> Actions can be taken(levers) -> Data can be used\n",
    "\n",
    "After the logic line above is cleared, then decide which model to be used.\n",
    "\n",
    "\"We use data not just to generate more data (in the form of predictions), but to produce actionable outcomes.\""
   ]
  },
  {
   "cell_type": "markdown",
   "metadata": {},
   "source": [
    "8. How do the steps of the Drivetrain Approach map to a recommendation system?"
   ]
  },
  {
   "cell_type": "markdown",
   "metadata": {},
   "source": [
    "1.Define the Objective: recommending a book based on the book that a user has purchased;\n",
    "2."
   ]
  },
  {
   "cell_type": "markdown",
   "metadata": {},
   "source": []
  }
 ],
 "metadata": {
  "interpreter": {
   "hash": "aee8b7b246df8f9039afb4144a1f6fd8d2ca17a180786b69acc140d282b71a49"
  },
  "kernelspec": {
   "display_name": "Python 3.9.4 64-bit",
   "language": "python",
   "name": "python3"
  },
  "language_info": {
   "name": "python",
   "version": "3.9.4"
  },
  "orig_nbformat": 4
 },
 "nbformat": 4,
 "nbformat_minor": 2
}
