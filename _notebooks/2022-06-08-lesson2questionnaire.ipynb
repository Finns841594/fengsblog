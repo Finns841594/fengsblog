{
 "cells": [
  {
   "cell_type": "markdown",
   "metadata": {},
   "source": [
    "# Lesson 2 Questionnaire\n",
    "> \n",
    "\n",
    "- toc: true \n",
    "- badges: true\n",
    "- comments: true\n",
    "- author: Feng Yang\n",
    "- categories: [Questionnaire]"
   ]
  },
  {
   "cell_type": "markdown",
   "metadata": {},
   "source": [
    "1. Provide an example of where the bear classification model might work poorly in production, due to structural or style differences in the training data."
   ]
  },
  {
   "cell_type": "markdown",
   "metadata": {},
   "source": [
    "If there have no black-and-white images of bears in the trainning data, the model might do poorly in classifier mission when we input a black-and-white bear image. So when we collecting the training data, we should take the type of data that would be used in practical mission into consideration."
   ]
  },
  {
   "cell_type": "markdown",
   "metadata": {},
   "source": [
    "1. Where do text models currently have a major deficiency?"
   ]
  },
  {
   "cell_type": "markdown",
   "metadata": {},
   "source": [
    "Deep learning is currently not good at generating correct natural language responses."
   ]
  },
  {
   "cell_type": "markdown",
   "metadata": {},
   "source": [
    "1. What are possible negative societal implications of text generation models?"
   ]
  },
  {
   "cell_type": "markdown",
   "metadata": {},
   "source": [
    "Auto generated text contents can be used to spread disinformation, create unrest, and encourage conflict, which will bring much bigger influence than before. Because the speed of generated such contents by machine learning model is thousands of times greater than any troll farm previously seen. "
   ]
  },
  {
   "cell_type": "markdown",
   "metadata": {},
   "source": [
    "1. In situations where a model might make mistakes, and those mistakes could be harmful, what is a good alternative to automating a process?"
   ]
  },
  {
   "cell_type": "markdown",
   "metadata": {},
   "source": [
    "Use this model as a tool for human for the specific task. Combineing the efficiency of a machine and the accuracy of a human."
   ]
  },
  {
   "cell_type": "markdown",
   "metadata": {},
   "source": [
    "5. What kind of tabular data is deep learning particularly good at?"
   ]
  },
  {
   "cell_type": "markdown",
   "metadata": {},
   "source": [
    "Natrual language and high-cardinality categorical columns(discrete numbers such as zip code or product ID)."
   ]
  },
  {
   "cell_type": "markdown",
   "metadata": {},
   "source": [
    "6. What's a key downside of directly using a deep learning model for recommendation systems?"
   ]
  },
  {
   "cell_type": "markdown",
   "metadata": {},
   "source": [
    "It recommands based on the relativeness. So a deep learning model may recommend something highly relative which you already known. "
   ]
  },
  {
   "cell_type": "markdown",
   "metadata": {},
   "source": [
    "7. What are the steps of the Drivetrain Approach?"
   ]
  },
  {
   "cell_type": "markdown",
   "metadata": {},
   "source": [
    "Define the Objective -> Actions can be taken(levers) -> Data can be used  \n",
    "After the logic line above is cleared, then decide which model to be used.  \n",
    "\n",
    "\"We use data not just to generate more data (in the form of predictions), but to produce actionable outcomes.\""
   ]
  },
  {
   "cell_type": "markdown",
   "metadata": {},
   "source": [
    "8. How do the steps of the Drivetrain Approach map to a recommendation system?"
   ]
  },
  {
   "cell_type": "markdown",
   "metadata": {},
   "source": [
    "1.Define the Objective: recommending a book based on the book that a user has purchased;  \n",
    "2.Actions: train a model which output the data which describes the revelance of each books in our libarary.  \n",
    "3.Data: names of Books each user has bought;  \n",
    "\n",
    "Belows are from course:  \n",
    "The objective of a recommendation engine is to drive additional sales by surprising and delighting the customer with recommendations of items they would not have purchased without the recommendation.  \n",
    "The lever is the ranking of the recommendations.  \n",
    "New data must be collected to generate recommendations that will cause new sales.  \n",
    "Finally, you could build two models for purchase probabilities, conditional on seeing or not seeing a recommendation.  \n",
    "\n",
    "What I got:  \n",
    "Go deeper into the motivation. Recommending a book here is to sell it."
   ]
  },
  {
   "cell_type": "markdown",
   "metadata": {},
   "source": [
    "9. Create an image recognition model using data you curate, and deploy it on the web."
   ]
  },
  {
   "cell_type": "markdown",
   "metadata": {},
   "source": [
    "See my previous post:  \n",
    "https://finns841594.github.io/fengsblog/machine%20learning/2022/06/01/first-complete-practice.html  \n"
   ]
  },
  {
   "cell_type": "markdown",
   "metadata": {},
   "source": [
    "Deployed at here:  \n",
    "https://hub.gke2.mybinder.org/user/finns841594-dog_classifier-bu59zdrv/voila/render/Dog_Classifier.ipynb?token=saWa_1L4SZ2zaDWTk5Q1Dg"
   ]
  },
  {
   "cell_type": "markdown",
   "metadata": {},
   "source": [
    "10. What is DataLoaders?"
   ]
  },
  {
   "cell_type": "markdown",
   "metadata": {},
   "source": [
    "A class that stores the dataloads that you passed to it. Usually used in following way:  \n",
    "dls = DataBlock.dataloaders(path)"
   ]
  },
  {
   "cell_type": "markdown",
   "metadata": {},
   "source": [
    "11. What four things do we need to tell fastai to create DataLoaders?"
   ]
  },
  {
   "cell_type": "markdown",
   "metadata": {},
   "source": [
    "1, what kind of data  \n",
    "2, how to get the list of items  \n",
    "3, how to label these items  \n",
    "4, how to create the validation set  \n",
    "\n",
    "From where to get what data, in what way to label them and in what way to split validation set."
   ]
  },
  {
   "cell_type": "markdown",
   "metadata": {},
   "source": [
    "12. What does the splitter parameter to DataBlock do?"
   ]
  },
  {
   "cell_type": "markdown",
   "metadata": {},
   "source": [
    "To tell the DataBlock how much percentage of the all data should be used for validation."
   ]
  },
  {
   "cell_type": "markdown",
   "metadata": {},
   "source": [
    "13. How do we ensure a random split always gives the same validation set?"
   ]
  },
  {
   "cell_type": "markdown",
   "metadata": {},
   "source": [
    "Give the splitter same random seed."
   ]
  },
  {
   "cell_type": "markdown",
   "metadata": {},
   "source": [
    "14. What letters are often used to signify the independent and dependent variables?"
   ]
  },
  {
   "cell_type": "markdown",
   "metadata": {},
   "source": [
    "x for the independent variables while y for the dependent variables."
   ]
  },
  {
   "cell_type": "markdown",
   "metadata": {},
   "source": [
    "15. What's the difference between the crop, pad, and squish resize approaches? When might you choose one over the others?"
   ]
  },
  {
   "cell_type": "markdown",
   "metadata": {},
   "source": [
    "Cropping may lose pixels(informations), padding may add a lot of extra black pixels, squish resizing leads to unrealistic shapes. All three methonds have negative influence on model trainning. Usually we use random resize crop."
   ]
  },
  {
   "cell_type": "markdown",
   "metadata": {},
   "source": [
    "16. What is data augmentation? Why is it needed?"
   ]
  },
  {
   "cell_type": "markdown",
   "metadata": {},
   "source": [
    "It means to creating random variations of the data. The variations has same meaning(key information) of the data, but slightly different. It is needed because It can help trainning our model to caputre the essential part of the data instead of caring about less important details."
   ]
  },
  {
   "cell_type": "markdown",
   "metadata": {},
   "source": [
    "17 What is the difference between item_tfms and batch_tfms?"
   ]
  },
  {
   "cell_type": "markdown",
   "metadata": {},
   "source": [
    "item_tfms applies on single item one by one, batch_tfms applies on the full batch at once."
   ]
  },
  {
   "cell_type": "markdown",
   "metadata": {},
   "source": [
    "18 What is a confusion matrix?"
   ]
  },
  {
   "cell_type": "markdown",
   "metadata": {},
   "source": [
    "It is for us to evaluate the performence of model, and to anylise where are the errors. It is a matrix shows the coherence of the predict and the result."
   ]
  },
  {
   "cell_type": "markdown",
   "metadata": {},
   "source": [
    "19 What does export save?"
   ]
  },
  {
   "cell_type": "markdown",
   "metadata": {},
   "source": [
    "It saved the parameters and the model together in fastai format."
   ]
  },
  {
   "cell_type": "markdown",
   "metadata": {},
   "source": [
    "20 What is it called when we use a model for getting predictions, instead of training?"
   ]
  },
  {
   "cell_type": "markdown",
   "metadata": {},
   "source": [
    "inference"
   ]
  },
  {
   "cell_type": "markdown",
   "metadata": {},
   "source": [
    "21 What are IPython widgets?"
   ]
  },
  {
   "cell_type": "markdown",
   "metadata": {},
   "source": [
    "GUI components"
   ]
  },
  {
   "cell_type": "markdown",
   "metadata": {},
   "source": [
    "22 When might you want to use CPU for deployment? When might GPU be better?"
   ]
  },
  {
   "cell_type": "markdown",
   "metadata": {},
   "source": [
    "Use CPU when you don't need to deal with many identical works at the same time. Use GPU when you need that."
   ]
  },
  {
   "cell_type": "markdown",
   "metadata": {},
   "source": [
    "23 What are the downsides of deploying your app to a server, instead of to a client (or edge) device such as a phone or PC?"
   ]
  },
  {
   "cell_type": "markdown",
   "metadata": {},
   "source": [
    "First, the framework which helps you achive that might not support the layer or function we are using for trainning the model. In addition, its time costing to adapt the application to the different version of os on different devices by small team(or alone)."
   ]
  },
  {
   "cell_type": "markdown",
   "metadata": {},
   "source": [
    "24 What are three examples of problems that could occur when rolling out a bear warning system in practice?"
   ]
  },
  {
   "cell_type": "markdown",
   "metadata": {},
   "source": [
    "Most of the problems occured because the quality of images for trainning are different from the images for inferencing in practice, which leads the desension of accuracy. For example, low quality for inferencing, video data instead of images, bears in the images are in rarely seen position, etc."
   ]
  },
  {
   "cell_type": "markdown",
   "metadata": {},
   "source": [
    "25 What is \"out-of-domain data\"?"
   ]
  },
  {
   "cell_type": "markdown",
   "metadata": {},
   "source": [
    "Domain here means the range of data we used for trainning. Out-of-domain data thus means the type or the quality of data for inferencing is different from the data we used for the trainning."
   ]
  },
  {
   "cell_type": "markdown",
   "metadata": {},
   "source": [
    "26 What is \"domain shift\"?"
   ]
  },
  {
   "cell_type": "markdown",
   "metadata": {},
   "source": [
    "data that our model sees changed with the time."
   ]
  },
  {
   "cell_type": "markdown",
   "metadata": {},
   "source": [
    "27 What are the three steps in the deployment process?"
   ]
  },
  {
   "cell_type": "markdown",
   "metadata": {},
   "source": [
    "Manula process, to limited scope deployment, to gradual expansion."
   ]
  },
  {
   "cell_type": "markdown",
   "metadata": {},
   "source": []
  }
 ],
 "metadata": {
  "interpreter": {
   "hash": "aee8b7b246df8f9039afb4144a1f6fd8d2ca17a180786b69acc140d282b71a49"
  },
  "kernelspec": {
   "display_name": "Python 3.9.4 64-bit",
   "language": "python",
   "name": "python3"
  },
  "language_info": {
   "name": "python",
   "version": "3.9.4"
  },
  "orig_nbformat": 4
 },
 "nbformat": 4,
 "nbformat_minor": 2
}
