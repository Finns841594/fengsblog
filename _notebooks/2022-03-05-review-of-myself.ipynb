{
 "cells": [
  {
   "cell_type": "markdown",
   "id": "0bbccbbb",
   "metadata": {},
   "source": [
    "# A REVIEW (keep on updating)\n",
    "> What I have learnt about ML and DL.\n",
    "\n",
    "- toc: true \n",
    "- badges: true\n",
    "- comments: true\n",
    "- author: Feng Yang\n",
    "- categories: [others]"
   ]
  },
  {
   "cell_type": "markdown",
   "id": "b667d06e",
   "metadata": {},
   "source": [
    "I have nearly no practical knowledge about computer science until last year. I signed up Coursera programs named Machine Learning and Deep Learning by Andrew Ng, and I finished them half year ago, which is mid June of 2021."
   ]
  },
  {
   "cell_type": "markdown",
   "id": "912fd15d",
   "metadata": {},
   "source": [
    "# Machine Learning"
   ]
  },
  {
   "cell_type": "markdown",
   "id": "381f9962",
   "metadata": {},
   "source": [
    "## What is Machine Learning by a example"
   ]
  },
  {
   "cell_type": "markdown",
   "id": "002a666b",
   "metadata": {},
   "source": [
    "I know nothing about Machine Learning before this course. But Andrew explains it by a very simple practical example: house price predicting. \n",
    "\n",
    "Imaging that you have a collection of data about price of houses and the size of them. How would you predict the price of a house which doesn't exist in your data set?\n",
    "\n",
    "We assume that the price of a house has strong assciotation with the size of a house. It is foundamental for the following."
   ]
  },
  {
   "cell_type": "markdown",
   "id": "d3420ab4",
   "metadata": {},
   "source": [
    "'a photo of visualization of size of a house and price of a house'"
   ]
  },
  {
   "cell_type": "markdown",
   "id": "029330a2",
   "metadata": {},
   "source": [
    "To describe the relation between two sets of associated data, there are many ways. As a beginning, lets assume they have the most simplest relation: liner regression.\n",
    "\n",
    "linar regression can be described by a simple mathematic equation as follow:\n",
    "\n",
    "y = a*x + b\n",
    "\n",
    "Which is a perfect start. Because there are only two parameters to be confirmed, and then we can describe the relation between x(size of a house) and y(price of a house)."
   ]
  },
  {
   "cell_type": "markdown",
   "id": "eddea24b",
   "metadata": {},
   "source": [
    "Imaging that you have a powerful computer, it starts to test the value of a and b from 0 to any other number. To evaluate every pair of a and b, the computer tests every pair of x and y.\n",
    "\n",
    "But no matter how powerful your computer is, this process would takes forever to find the perfect value of a and b, which is, to describe the relation of x and y perfectly.\n",
    "\n",
    "So the computer has to learn to sovle the problem in the limited time.\n",
    "\n",
    "Learning means evaluate and then adjust it self.\n",
    "\n",
    "To evaluate, we need to know the cost function."
   ]
  },
  {
   "cell_type": "markdown",
   "id": "6e04f6a5",
   "metadata": {},
   "source": [
    "Lets say our program randomly picked two numbers for our parameters a1 and b1. Then we input x1, one of the xs in our data set, to the equation a*x1 + b1, we will get a y1 as result. \n",
    "\n",
    "The simplest way to evaluate the differences between y1"
   ]
  },
  {
   "cell_type": "markdown",
   "id": "3ac64826",
   "metadata": {},
   "source": [
    "## Key concepts: main stream structures of machine learning"
   ]
  },
  {
   "cell_type": "markdown",
   "id": "93550784",
   "metadata": {},
   "source": [
    "# Deep Learning"
   ]
  },
  {
   "cell_type": "markdown",
   "id": "c9b3bb7c",
   "metadata": {},
   "source": [
    "## Review of Nerual Networks"
   ]
  },
  {
   "cell_type": "code",
   "execution_count": null,
   "id": "a84b78c7",
   "metadata": {},
   "outputs": [],
   "source": []
  }
 ],
 "metadata": {
  "kernelspec": {
   "display_name": "Python 3",
   "language": "python",
   "name": "python3"
  },
  "language_info": {
   "codemirror_mode": {
    "name": "ipython",
    "version": 3
   },
   "file_extension": ".py",
   "mimetype": "text/x-python",
   "name": "python",
   "nbconvert_exporter": "python",
   "pygments_lexer": "ipython3",
   "version": "3.8.8"
  }
 },
 "nbformat": 4,
 "nbformat_minor": 5
}
