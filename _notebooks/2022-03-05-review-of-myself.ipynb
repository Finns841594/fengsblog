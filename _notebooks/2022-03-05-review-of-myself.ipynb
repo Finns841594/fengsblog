{
 "cells": [
  {
   "cell_type": "markdown",
   "id": "0bbccbbb",
   "metadata": {},
   "source": [
    "# A REVIEW (keep on updating)\n",
    "> What I have learnt about ML and DL.\n",
    "\n",
    "- toc: true \n",
    "- badges: true\n",
    "- comments: true\n",
    "- author: Feng Yang\n",
    "- categories: [others]"
   ]
  },
  {
   "cell_type": "markdown",
   "id": "b667d06e",
   "metadata": {},
   "source": [
    "I actually have nearly no background on computer science a year ago. I signed up the Coursera program Machine Learning and program Deep Learning by Andrew Ng and finished them half year ago."
   ]
  },
  {
   "cell_type": "markdown",
   "id": "912fd15d",
   "metadata": {},
   "source": [
    "## Machine Learning"
   ]
  },
  {
   "cell_type": "markdown",
   "id": "002a666b",
   "metadata": {},
   "source": [
    "I know nothing about Machine Learning before this course. But Andrew explains it by a very simple practical example: house price predicting. \n",
    "\n",
    "Imaging that you have a collection of data about price of houses and the size of them. How would you predict the price of a house which doesn't exist in your data set?\n",
    "\n",
    "We assume that the price of a house has strong assciotation with the size of a house. It is foundamental for the following."
   ]
  },
  {
   "cell_type": "markdown",
   "id": "d3420ab4",
   "metadata": {},
   "source": [
    "'a photo of visualization of size of a house and price of a house'"
   ]
  },
  {
   "cell_type": "markdown",
   "id": "029330a2",
   "metadata": {},
   "source": [
    "To describe the relation between two sets of associated data, there are many. As a beginning, lets assume they have the most simplest relation: liner regression.\n",
    "\n",
    "linar regression can be described by a simple mathematic equation as follow:\n",
    "\n",
    "y = a*x + b\n",
    "\n",
    "Which is a perfect start. Because there are only two parameters to be confirmed, and then we can describe the relation between x(size of a house) and y(price of a house)."
   ]
  },
  {
   "cell_type": "markdown",
   "id": "dc6a3202",
   "metadata": {},
   "source": [
    "Imaging that you have a powerful computer, it starts to test the value of a and b from 0 to any other number. To evaluate every pair of a and b, the computer tests every pair of x and y.\n",
    "\n",
    "But no matter how powerful your computer is, this process would takes forever to find the perfect value of a and b, which is, to describe the relation of x and y perfectly.\n",
    "\n",
    "So the computer has to learn to sovle the problem in the limited time.\n",
    "\n",
    "Learning means evaluate and then adjust it self."
   ]
  },
  {
   "cell_type": "code",
   "execution_count": null,
   "id": "0232053b",
   "metadata": {},
   "outputs": [],
   "source": []
  }
 ],
 "metadata": {
  "kernelspec": {
   "display_name": "Python 3",
   "language": "python",
   "name": "python3"
  },
  "language_info": {
   "codemirror_mode": {
    "name": "ipython",
    "version": 3
   },
   "file_extension": ".py",
   "mimetype": "text/x-python",
   "name": "python",
   "nbconvert_exporter": "python",
   "pygments_lexer": "ipython3",
   "version": "3.8.8"
  }
 },
 "nbformat": 4,
 "nbformat_minor": 5
}
