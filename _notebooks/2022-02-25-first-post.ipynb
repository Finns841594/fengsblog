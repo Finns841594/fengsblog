{
 "cells": [
  {
   "cell_type": "markdown",
   "id": "55fd31eb",
   "metadata": {},
   "source": [
    "# Feng's First Post\n",
    "> Hello Github! Hello ML world!\n",
    "\n",
    "- toc: true\n",
    "- badges: true\n",
    "- comments: true\n",
    "- author: Feng Yang\n",
    "- categories: [others]"
   ]
  },
  {
   "cell_type": "markdown",
   "id": "c10b5474",
   "metadata": {},
   "source": [
    "This is Feng's first post on his fastpage blog! \n",
    "\n",
    "He has nearly no programming background. \n",
    "But he wants to learn. \n",
    "Because he gets to know how powerful the programing and machine learning can be.\n",
    "\n",
    "He has a lot of good ideas. \n",
    "And he wants to try to express these ideas by the powerful tool of computer science.\n",
    "\n",
    "He writes this blog for recording the process of learning, keeping notes, and sharing with those who like him.\n",
    "\n",
    "How he starts with this? \n",
    "Of course the most traditional way:"
   ]
  },
  {
   "cell_type": "code",
   "execution_count": 2,
   "id": "55d77851",
   "metadata": {
    "scrolled": true
   },
   "outputs": [
    {
     "name": "stdout",
     "output_type": "stream",
     "text": [
      "Hello world!\n"
     ]
    }
   ],
   "source": [
    "print(\"Hello world!\")"
   ]
  },
  {
   "cell_type": "markdown",
   "id": "659e6942",
   "metadata": {},
   "source": [
    "See you in the next post!"
   ]
  }
 ],
 "metadata": {
  "kernelspec": {
   "display_name": "Python 3",
   "language": "python",
   "name": "python3"
  },
  "language_info": {
   "codemirror_mode": {
    "name": "ipython",
    "version": 3
   },
   "file_extension": ".py",
   "mimetype": "text/x-python",
   "name": "python",
   "nbconvert_exporter": "python",
   "pygments_lexer": "ipython3",
   "version": "3.8.8"
  }
 },
 "nbformat": 4,
 "nbformat_minor": 5
}
